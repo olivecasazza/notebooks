{
 "cells": [
  {
   "cell_type": "markdown",
   "metadata": {},
   "source": [
    "### Problem 2\n",
    "**Language: Python3** \n",
    "\n",
    "A manipulator has the following Jacobian matrix.\n",
    "\n",
    "```J = [ -l1*s1, -l2*s12, -l2*s12*l1*c1, l2*c12*l2*c12 ]```\n",
    "\n",
    "Find the joint torques such that the manipulator applies a static force of 10  newton-meter in the x direction at the end-effector. "
   ]
  },
  {
   "cell_type": "code",
   "execution_count": 2,
   "metadata": {},
   "outputs": [],
   "source": [
    "import sympy as sp"
   ]
  },
  {
   "cell_type": "code",
   "execution_count": 4,
   "metadata": {},
   "outputs": [
    {
     "name": "stdout",
     "output_type": "stream",
     "text": [
      "jacobian matrix:\n"
     ]
    },
    {
     "data": {
      "text/latex": [
       "$\\displaystyle \\left[\\begin{matrix}- l_{1} \\sin{\\left(t_{1} \\right)} - l_{2} \\sin{\\left(t_{1} + t_{2} \\right)} & - l_{2} \\sin{\\left(t_{1} + t_{2} \\right)}\\\\l_{1} \\cos{\\left(t_{1} \\right)} + l_{2} \\cos{\\left(t_{1} + t_{2} \\right)} & l_{2} \\cos{\\left(t_{1} + t_{2} \\right)}\\end{matrix}\\right]$"
      ],
      "text/plain": [
       "Matrix([\n",
       "[-l1*sin(t1) - l2*sin(t1 + t2), -l2*sin(t1 + t2)],\n",
       "[ l1*cos(t1) + l2*cos(t1 + t2),  l2*cos(t1 + t2)]])"
      ]
     },
     "metadata": {},
     "output_type": "display_data"
    },
    {
     "name": "stdout",
     "output_type": "stream",
     "text": [
      "joint torques:\n"
     ]
    },
    {
     "data": {
      "text/plain": [
       "[(0, 0), (0, pi), (-pi, pi), (pi, 0)]"
      ]
     },
     "metadata": {},
     "output_type": "display_data"
    }
   ],
   "source": [
    "# define the symbols we'll need\n",
    "fx, fy, t1, t2, l1, l2 = sp.symbols('fx fy t1 t2 l1 l2')\n",
    "\n",
    "# create jacobian matrix\n",
    "p2_jacobian = sp.Matrix([\n",
    "    [(-l1 * sp.sin(t1)) - (l2 * sp.sin(t1+t2)), -l2 * sp.sin(t1+t2)],\n",
    "    [(l1* sp.cos(t1))+(l2 * sp.cos(t1+t2)), (l2*sp.cos(t1+t2))]\n",
    "])\n",
    "print('jacobian matrix:')\n",
    "display(p2_jacobian)\n",
    "\n",
    "# create force matrix which\n",
    "# has (10 newton meters) in x component\n",
    "p2_force = sp.Matrix([10,0])\n",
    "\n",
    "# create a torque matric that\n",
    "# we'll solve for\n",
    "p2_torque = sp.Matrix([t1,t2])\n",
    "\n",
    "# solve for the joint torques\n",
    "print('joint torques:')\n",
    "p2_solved_torques = sp.simplify(\n",
    "    sp.solve(p2_jacobian.T * p2_force, p2_torque)\n",
    ")\n",
    "display(p2_solved_torques)"
   ]
  }
 ],
 "metadata": {
  "kernelspec": {
   "display_name": "Python 3",
   "language": "python",
   "name": "python3"
  },
  "language_info": {
   "codemirror_mode": {
    "name": "ipython",
    "version": 3
   },
   "file_extension": ".py",
   "mimetype": "text/x-python",
   "name": "python",
   "nbconvert_exporter": "python",
   "pygments_lexer": "ipython3",
   "version": "3.7.3"
  }
 },
 "nbformat": 4,
 "nbformat_minor": 2
}
