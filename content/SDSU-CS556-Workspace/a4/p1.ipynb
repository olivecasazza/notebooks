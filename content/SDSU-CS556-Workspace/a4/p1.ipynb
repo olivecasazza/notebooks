{
 "cells": [
  {
   "cell_type": "markdown",
   "metadata": {},
   "source": [
    "### Problem 1\n",
    "**Language: Python3**\n",
    "\n",
    "A 2-link manipulator has a revolute joint 1 with the angle and followed by a prismatic joint with the value q. The end effector position is given by\n",
    "\n",
    "`x=a*cθ-q*sθ`\n",
    "\n",
    "`y=a*sθ+q*cθ`\n",
    "\n",
    "\n",
    "Find the Jacobian matrix of the robot, and determine its singularities."
   ]
  },
  {
   "cell_type": "code",
   "execution_count": 2,
   "metadata": {},
   "outputs": [],
   "source": [
    "import sympy as sp"
   ]
  },
  {
   "cell_type": "code",
   "execution_count": 13,
   "metadata": {},
   "outputs": [
    {
     "name": "stdout",
     "output_type": "stream",
     "text": [
      "jacobian matrix:\n"
     ]
    },
    {
     "data": {
      "text/latex": [
       "$\\displaystyle \\left[\\begin{matrix}- a \\sin{\\left(t \\right)} - q \\cos{\\left(t \\right)} & - \\sin{\\left(t \\right)}\\\\a \\cos{\\left(t \\right)} - q \\sin{\\left(t \\right)} & \\cos{\\left(t \\right)}\\end{matrix}\\right]$"
      ],
      "text/plain": [
       "Matrix([\n",
       "[-a*sin(t) - q*cos(t), -sin(t)],\n",
       "[ a*cos(t) - q*sin(t),  cos(t)]])"
      ]
     },
     "metadata": {},
     "output_type": "display_data"
    },
    {
     "name": "stdout",
     "output_type": "stream",
     "text": [
      "determinate of jacobian:\n"
     ]
    },
    {
     "data": {
      "text/latex": [
       "$\\displaystyle \\left(- a \\sin{\\left(t \\right)} - q \\cos{\\left(t \\right)}\\right) \\cos{\\left(t \\right)} + \\left(a \\cos{\\left(t \\right)} - q \\sin{\\left(t \\right)}\\right) \\sin{\\left(t \\right)}$"
      ],
      "text/plain": [
       "(-a*sin(t) - q*cos(t))*cos(t) + (a*cos(t) - q*sin(t))*sin(t)"
      ]
     },
     "metadata": {},
     "output_type": "display_data"
    },
    {
     "name": "stdout",
     "output_type": "stream",
     "text": [
      "singularities:\n"
     ]
    },
    {
     "data": {
      "text/plain": [
       "[(t, 0)]"
      ]
     },
     "metadata": {},
     "output_type": "display_data"
    }
   ],
   "source": [
    "# define symbolic variables\n",
    "q,t = sp.symbols('q t')\n",
    "\n",
    "# define forward kinematic equations\n",
    "x = a*sp.cos(t) - q*sp.sin(t)\n",
    "y = a*sp.sin(t) + q*sp.cos(t)\n",
    "\n",
    "# define intermediate diff varialbes\n",
    "_x11 = sp.diff(x, t)\n",
    "_x12 = sp.diff(x, q)\n",
    "_y21 = sp.diff(y, t)\n",
    "_y22 = sp.diff(y, q)\n",
    "\n",
    "# define jacobian matrix\n",
    "p1_j = sp.simplify(\n",
    "    sp.Matrix([\n",
    "        [_x11, _x12],\n",
    "        [_y21, _y22]\n",
    "    ])\n",
    ")\n",
    "print(\"jacobian matrix:\")\n",
    "display(p1_j)\n",
    "\n",
    "# determine singularities\n",
    "# find determinate of jacobian\n",
    "p1_j_det = sp.det(p1_j)\n",
    "print(\"determinate of jacobian:\")\n",
    "display(p1_j_det)\n",
    "\n",
    "# solve for singularities\n",
    "p1_singularities = sp.solve(sp.simplify(p1_j_det), [t, q])\n",
    "print(\"singularities:\")\n",
    "display(sp.simplify(p1_singularities))"
   ]
  }
 ],
 "metadata": {
  "kernelspec": {
   "display_name": "Python 3",
   "language": "python",
   "name": "python3"
  },
  "language_info": {
   "codemirror_mode": {
    "name": "ipython",
    "version": 3
   },
   "file_extension": ".py",
   "mimetype": "text/x-python",
   "name": "python",
   "nbconvert_exporter": "python",
   "pygments_lexer": "ipython3",
   "version": "3.7.3"
  }
 },
 "nbformat": 4,
 "nbformat_minor": 2
}
